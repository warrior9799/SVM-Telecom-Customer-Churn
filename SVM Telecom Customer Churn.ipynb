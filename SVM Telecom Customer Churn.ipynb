{
 "cells": [
  {
   "cell_type": "code",
   "execution_count": 2,
   "metadata": {},
   "outputs": [],
   "source": [
    "import warnings\n",
    "warnings.filterwarnings('ignore')\n",
    "import pandas as pd\n",
    "import numpy as np\n",
    "mp = pd.read_csv('C:/Users/My Lappie/Downloads/Datasets (2)/re/trainRF.csv')\n"
   ]
  },
  {
   "cell_type": "code",
   "execution_count": 3,
   "metadata": {},
   "outputs": [],
   "source": [
    "from sklearn.model_selection import train_test_split\n",
    "\n",
    "mp_train, mp_test = train_test_split(mp, test_size = 0.2)"
   ]
  },
  {
   "cell_type": "code",
   "execution_count": 4,
   "metadata": {},
   "outputs": [],
   "source": [
    "mp_train_x = mp_train.iloc[:, 0 : -1 ]\n",
    "mp_train_y = mp_train.iloc[:, -1 ]"
   ]
  },
  {
   "cell_type": "code",
   "execution_count": 5,
   "metadata": {},
   "outputs": [],
   "source": [
    "mp_test_x = mp_test.iloc[:, 0 : -1 ]\n",
    "mp_test_y = mp_test.iloc[:, -1 ]"
   ]
  },
  {
   "cell_type": "code",
   "execution_count": 6,
   "metadata": {},
   "outputs": [],
   "source": [
    "from sklearn.svm import SVC\n",
    "\n",
    "svc = SVC()"
   ]
  },
  {
   "cell_type": "code",
   "execution_count": 8,
   "metadata": {},
   "outputs": [
    {
     "data": {
      "text/plain": [
       "array([3, 0, 2, 1, 1, 1, 0, 0, 1, 2, 3, 1, 1, 1, 3, 3, 0, 3, 1, 2, 0, 1,\n",
       "       2, 3, 1, 3, 1, 1, 0, 1, 3, 2, 1, 2, 0, 1, 1, 1, 3, 3, 0, 0, 0, 3,\n",
       "       1, 0, 3, 3, 0, 0, 3, 3, 2, 2, 2, 3, 1, 0, 0, 2, 1, 0, 0, 3, 1, 3,\n",
       "       2, 2, 3, 3, 0, 2, 0, 0, 2, 1, 3, 3, 0, 1, 0, 2, 0, 2, 0, 3, 0, 3,\n",
       "       1, 2, 0, 1, 1, 3, 0, 2, 0, 0, 0, 0, 3, 1, 1, 0, 2, 2, 1, 0, 0, 1,\n",
       "       0, 3, 0, 0, 3, 2, 3, 3, 2, 3, 1, 2, 1, 3, 1, 0, 3, 0, 3, 1, 1, 2,\n",
       "       2, 0, 0, 0, 3, 3, 2, 1, 0, 2, 1, 2, 3, 3, 0, 1, 0, 1, 3, 2, 2, 2,\n",
       "       0, 1, 2, 3, 1, 2, 1, 1, 2, 3, 2, 3, 2, 2, 0, 0, 0, 2, 0, 3, 2, 1,\n",
       "       1, 1, 1, 1, 0, 3, 3, 0, 1, 3, 2, 1, 3, 2, 1, 3, 2, 1, 0, 0, 1, 2,\n",
       "       2, 0, 1, 1, 1, 2, 1, 1, 2, 3, 1, 1, 1, 0, 3, 0, 0, 2, 0, 3, 1, 1,\n",
       "       1, 2, 3, 1, 2, 3, 0, 1, 1, 2, 3, 2, 3, 2, 2, 2, 2, 3, 1, 3, 2, 1,\n",
       "       3, 1, 1, 2, 2, 0, 1, 3, 1, 1, 2, 0, 3, 2, 3, 2, 0, 3, 2, 2, 1, 0,\n",
       "       1, 1, 0, 1, 2, 3, 1, 0, 0, 3, 3, 0, 3, 1, 0, 2, 2, 3, 1, 3, 0, 0,\n",
       "       0, 0, 1, 3, 0, 1, 2, 2, 0, 0, 1, 1, 2, 0, 3, 3, 2, 0, 0, 2, 2, 2,\n",
       "       3, 2, 2, 3, 2, 3, 0, 2, 2, 2, 3, 2, 2, 2, 0, 2, 3, 3, 3, 3, 2, 2,\n",
       "       0, 3, 2, 2, 2, 2, 3, 1, 3, 0, 0, 3, 1, 0, 0, 0, 0, 3, 3, 1, 2, 2,\n",
       "       1, 1, 0, 1, 3, 0, 3, 2, 3, 3, 3, 0, 2, 1, 2, 3, 0, 0, 3, 0, 3, 0,\n",
       "       3, 2, 3, 0, 2, 0, 0, 3, 2, 3, 1, 2, 0, 0, 1, 2, 2, 3, 1, 0, 0, 2,\n",
       "       0, 0, 1, 1], dtype=int64)"
      ]
     },
     "execution_count": 8,
     "metadata": {},
     "output_type": "execute_result"
    }
   ],
   "source": [
    "svc.fit(mp_train_x, mp_train_y)\n",
    "pred_svc = svc.predict(mp_test_x)\n",
    "pred_svc"
   ]
  },
  {
   "cell_type": "code",
   "execution_count": 13,
   "metadata": {},
   "outputs": [],
   "source": [
    "from sklearn.metrics import accuracy_score, precision_score, recall_score, confusion_matrix, roc_auc_score, f1_score\n",
    "tab = confusion_matrix(pred_svc, mp_test_y)"
   ]
  },
  {
   "cell_type": "code",
   "execution_count": 17,
   "metadata": {},
   "outputs": [
    {
     "data": {
      "text/plain": [
       "0.955"
      ]
     },
     "execution_count": 17,
     "metadata": {},
     "output_type": "execute_result"
    }
   ],
   "source": [
    "tab\n",
    "tab.diagonal().sum()/tab.sum()"
   ]
  },
  {
   "cell_type": "code",
   "execution_count": 19,
   "metadata": {},
   "outputs": [
    {
     "data": {
      "text/plain": [
       "0.975"
      ]
     },
     "execution_count": 19,
     "metadata": {},
     "output_type": "execute_result"
    }
   ],
   "source": [
    "svc = SVC(kernel = 'linear')\n",
    "svc.fit(mp_train_x, mp_train_y)\n",
    "pred_svc = svc.predict(mp_test_x)\n",
    "tab = confusion_matrix(pred_svc, mp_test_y)\n",
    "tab.diagonal().sum()/tab.sum()"
   ]
  },
  {
   "cell_type": "code",
   "execution_count": 20,
   "metadata": {},
   "outputs": [
    {
     "data": {
      "text/plain": [
       "0.9675"
      ]
     },
     "execution_count": 20,
     "metadata": {},
     "output_type": "execute_result"
    }
   ],
   "source": [
    "svc = SVC(kernel = 'poly', degree = 2)\n",
    "svc.fit(mp_train_x, mp_train_y)\n",
    "pred_svc = svc.predict(mp_test_x)\n",
    "tab = confusion_matrix(pred_svc, mp_test_y)\n",
    "tab.diagonal().sum()/tab.sum()"
   ]
  },
  {
   "cell_type": "code",
   "execution_count": 21,
   "metadata": {},
   "outputs": [
    {
     "data": {
      "text/plain": [
       "0.955"
      ]
     },
     "execution_count": 21,
     "metadata": {},
     "output_type": "execute_result"
    }
   ],
   "source": [
    "svc = SVC(kernel = 'rbf')\n",
    "svc.fit(mp_train_x, mp_train_y)\n",
    "pred_svc = svc.predict(mp_test_x)\n",
    "tab = confusion_matrix(pred_svc, mp_test_y)\n",
    "tab.diagonal().sum()/tab.sum()"
   ]
  },
  {
   "cell_type": "code",
   "execution_count": null,
   "metadata": {},
   "outputs": [],
   "source": []
  },
  {
   "cell_type": "code",
   "execution_count": null,
   "metadata": {},
   "outputs": [],
   "source": []
  }
 ],
 "metadata": {
  "kernelspec": {
   "display_name": "Python 3",
   "language": "python",
   "name": "python3"
  },
  "language_info": {
   "codemirror_mode": {
    "name": "ipython",
    "version": 3
   },
   "file_extension": ".py",
   "mimetype": "text/x-python",
   "name": "python",
   "nbconvert_exporter": "python",
   "pygments_lexer": "ipython3",
   "version": "3.8.5"
  }
 },
 "nbformat": 4,
 "nbformat_minor": 4
}
